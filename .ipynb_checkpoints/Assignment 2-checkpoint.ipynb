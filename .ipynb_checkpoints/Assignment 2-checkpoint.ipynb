{
 "cells": [
  {
   "cell_type": "markdown",
   "metadata": {},
   "source": [
    "# Task 1:"
   ]
  },
  {
   "cell_type": "markdown",
   "metadata": {},
   "source": [
    "Question 1 :\n",
    "Write a Python Program to implement your own myreduce() function which works exactly like\n",
    "Python's built-in function reduce()"
   ]
  },
  {
   "cell_type": "code",
   "execution_count": 70,
   "metadata": {},
   "outputs": [
    {
     "name": "stdout",
     "output_type": "stream",
     "text": [
      "MyReduce Function Output - 89\n",
      "Python inbuilt Reduce Function Output - 89\n"
     ]
    }
   ],
   "source": [
    "# reduce() function takes agruments as function and an iterable respectively\n",
    "# reduce the iterable and returns an output by applying the function in pairs of value of the iterable\n",
    "\n",
    "def myreduce(function,iterable):\n",
    "    result = iterable[0]\n",
    "    for val in iterable[1:]:\n",
    "        result = function(result,val)\n",
    "    return result\n",
    "\n",
    "a = myreduce(lambda a,b:a if(a > b) else b, [43,67,36,5,89,23,64])\n",
    "b = reduce(lambda a,b:a if(a > b) else b, [43,67,36,5,89,23,64])\n",
    "\n",
    "print(\"MyReduce Function Output - \"+ str(a))\n",
    "print(\"Python inbuilt Reduce Function Output - \"+ str(b))\n",
    "# So myreduce() function is similar to inbuilt reduce function"
   ]
  },
  {
   "cell_type": "markdown",
   "metadata": {},
   "source": [
    "Question 2 : Write a Python program to implement your own myfilter() function which works exactly like\n",
    "Python's built-in function filter()"
   ]
  },
  {
   "cell_type": "code",
   "execution_count": 19,
   "metadata": {},
   "outputs": [
    {
     "name": "stdout",
     "output_type": "stream",
     "text": [
      "MyReduce Function Output - [92]\n",
      "Python inbuilt Reduce Function Output - [92]\n"
     ]
    }
   ],
   "source": [
    "# filter function takes function and iterable as arguments respectively and \n",
    "# returns an iterable object of those val that are true according to the function\n",
    "def myfilter(function,iterable):\n",
    "    #true_list = list()\n",
    "    if function == None:\n",
    "        for val in iterable:\n",
    "            if val == False:\n",
    "                continue\n",
    "            else:\n",
    "                yield val\n",
    "    else:\n",
    "        for val in iterable:\n",
    "            if function(val):\n",
    "                   yield val   \n",
    "    \n",
    "\n",
    "a = list(myfilter(lambda x:x%2 ==0,[23,45,73,92,67]))\n",
    "b = list(filter(lambda x:x%2 ==0,[23,45,73,92,67]))\n",
    "\n",
    "print(\"Myfilter Function Output - \"+ str(a))\n",
    "print(\"Python inbuilt filter Function Output - \"+ str(b))"
   ]
  },
  {
   "cell_type": "markdown",
   "metadata": {},
   "source": [
    "Question 3:\n",
    "    Implement List comprehensions to produce the following lists.\n",
    "    Write List comprehensions to produce the following Lists\n",
    "    ['x', 'xx', 'xxx', 'xxxx', 'y', 'yy', 'yyy', 'yyyy', 'z', 'zz', 'zzz', 'zzzz']\n",
    "    ['x', 'y', 'z', 'xx', 'yy', 'zz', 'xx', 'yy', 'zz', 'xxxx', 'yyyy', 'zzzz']\n",
    "    [[2], [3], [4], [3], [4], [5], [4], [5], [6]]\n",
    "    [[2, 3, 4, 5], [3, 4, 5, 6], [4, 5, 6, 7], [5, 6, 7, 8]]\n",
    "    [(1, 1), (2, 1), (3, 1), (1, 2), (2, 2), (3, 2), (1, 3), (2, 3), (3, 3)]"
   ]
  },
  {
   "cell_type": "code",
   "execution_count": 64,
   "metadata": {},
   "outputs": [
    {
     "data": {
      "text/plain": [
       "['x', 'xx', 'xxx', 'xxxx', 'y', 'yy', 'yyy', 'yyyy', 'z', 'zz', 'zzz', 'zzzz']"
      ]
     },
     "execution_count": 64,
     "metadata": {},
     "output_type": "execute_result"
    }
   ],
   "source": [
    "native_lst = ['x','y','z']\n",
    "l1 = [j*i for i in native_lst for j in range(1,5)]\n",
    "l1"
   ]
  },
  {
   "cell_type": "code",
   "execution_count": 44,
   "metadata": {},
   "outputs": [
    {
     "data": {
      "text/plain": [
       "['x', 'y', 'z', 'xx', 'yy', 'zz', 'xxx', 'yyy', 'zzz', 'xxxx', 'yyyy', 'zzzz']"
      ]
     },
     "execution_count": 44,
     "metadata": {},
     "output_type": "execute_result"
    }
   ],
   "source": [
    "l2 = [i*j for j in range(1,5) for i in native_lst]\n",
    "l2"
   ]
  },
  {
   "cell_type": "code",
   "execution_count": 61,
   "metadata": {},
   "outputs": [
    {
     "data": {
      "text/plain": [
       "[[2], [3], [4], [3], [4], [5], [4], [5], [6]]"
      ]
     },
     "execution_count": 61,
     "metadata": {},
     "output_type": "execute_result"
    }
   ],
   "source": [
    "l3 = [ [i] for i in range(2,5) for i in range(i,i+3)]\n",
    "l3"
   ]
  },
  {
   "cell_type": "code",
   "execution_count": 86,
   "metadata": {},
   "outputs": [
    {
     "data": {
      "text/plain": [
       "[[2, 3, 4, 5], [3, 4, 5, 6], [4, 5, 6, 7], [5, 6, 7, 8]]"
      ]
     },
     "execution_count": 86,
     "metadata": {},
     "output_type": "execute_result"
    }
   ],
   "source": [
    "l4 = [[i+j for j in range(4)] for i in range(2,6)]\n",
    "l4"
   ]
  },
  {
   "cell_type": "code",
   "execution_count": 98,
   "metadata": {},
   "outputs": [
    {
     "data": {
      "text/plain": [
       "[(1, 1), (2, 1), (3, 1), (1, 2), (2, 2), (3, 2), (1, 3), (2, 3), (3, 3)]"
      ]
     },
     "execution_count": 98,
     "metadata": {},
     "output_type": "execute_result"
    }
   ],
   "source": [
    "l5 = [(i,j)  for j in range(1,4) for i in range(1,4)]\n",
    "l5"
   ]
  }
 ],
 "metadata": {
  "kernelspec": {
   "display_name": "Python 3",
   "language": "python",
   "name": "python3"
  },
  "language_info": {
   "codemirror_mode": {
    "name": "ipython",
    "version": 3
   },
   "file_extension": ".py",
   "mimetype": "text/x-python",
   "name": "python",
   "nbconvert_exporter": "python",
   "pygments_lexer": "ipython3",
   "version": "3.8.1"
  }
 },
 "nbformat": 4,
 "nbformat_minor": 4
}
